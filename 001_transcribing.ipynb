{
 "cells": [
  {
   "cell_type": "code",
   "execution_count": null,
   "metadata": {},
   "outputs": [],
   "source": [
    "models = [\n",
    "    \"classla/wav2vec2-large-slavic-parlaspeech-hr-lm\",\n",
    "    \"classla/wav2vec2-xls-r-parlaspeech-hr-lm\"\n",
    "]\n",
    "\n",
    "files = [\n",
    "    f\"/home/peterr/macocu/task18/data/sample{i}.wav\" for i in [1,2,3]\n",
    "]\n",
    "\n",
    "from pathlib import Path\n",
    "def transcribe(model_str, audio_filepath):\n",
    "    from transformers import AutoProcessor, Wav2Vec2ForCTC, AutoModelForCTC, Wav2Vec2ProcessorWithLM\n",
    "    processor = Wav2Vec2ProcessorWithLM.from_pretrained(model_str)\n",
    "    model = Wav2Vec2ForCTC.from_pretrained(model_str)\n",
    "\n",
    "    def get_transcript(audio_filepath:str):\n",
    "        import soundfile as sf\n",
    "        import torch\n",
    "\n",
    "        speech, sample_rate = sf.read(audio_filepath)\n",
    "        input_values = processor(speech, sampling_rate=sample_rate, return_tensors=\"pt\").input_values.cuda()\n",
    "        inputs = processor(speech, sampling_rate=sample_rate, return_tensors=\"pt\")\n",
    "        with torch.no_grad():\n",
    "            logits = model(**inputs).logits\n",
    "        transcription = processor.batch_decode(logits.numpy()).text\n",
    "        return transcription[0]\n",
    "    \n",
    "    return get_transcript(audio_filepath)\n",
    "results = []\n",
    "for file in files:\n",
    "    for model in models:\n",
    "        transcription = transcribe(model, file)\n",
    "        results.append({\n",
    "            \"model\": model,\n",
    "            \"file\": str(Path(file).name),\n",
    "            \"transcription\": transcription\n",
    "        })\n",
    "        \n",
    "import json\n",
    "with open(\"001_results.jsonl\", \"w\") as f:\n",
    "    for result in results:\n",
    "        f.write(\n",
    "            json.dumps(result)\n",
    "        )\n",
    "\n"
   ]
  }
 ],
 "metadata": {
  "kernelspec": {
   "display_name": "base",
   "language": "python",
   "name": "python3"
  },
  "language_info": {
   "codemirror_mode": {
    "name": "ipython",
    "version": 3
   },
   "file_extension": ".py",
   "mimetype": "text/x-python",
   "name": "python",
   "nbconvert_exporter": "python",
   "pygments_lexer": "ipython3",
   "version": "3.8.3"
  },
  "orig_nbformat": 4,
  "vscode": {
   "interpreter": {
    "hash": "7f6f5766036ee03d059e365a942add07f79c17033585e9357ee8157d52fe6bb9"
   }
  }
 },
 "nbformat": 4,
 "nbformat_minor": 2
}
