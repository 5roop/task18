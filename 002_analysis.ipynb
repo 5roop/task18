{
 "cells": [
  {
   "cell_type": "code",
   "execution_count": 3,
   "metadata": {},
   "outputs": [
    {
     "name": "stdout",
     "output_type": "stream",
     "text": [
      "|    | model                                           | file        | transcription                                                                                                                                                                                                                                                                                                                                                                                                                                   |\n",
      "|---:|:------------------------------------------------|:------------|:------------------------------------------------------------------------------------------------------------------------------------------------------------------------------------------------------------------------------------------------------------------------------------------------------------------------------------------------------------------------------------------------------------------------------------------------|\n",
      "|  0 | classla/wav2vec2-large-slavic-parlaspeech-hr-lm | sample1.wav | a spominjalo se specijalitet iz svog mjesta ali možete mi reći kako se priprema specijalitet je ovog mjesta za dobro mislite na ovu pogače pa pripremaju se u onoj velikoj pećipožseskajma sad ne znam kako ste u prav a što se tiče možda vaših omenjenihtee možete reći o tom području volim gledat ocshopove volim taj tip odnosa s gostom filmom domaće filmove najviše moj najdraži domaći film ironično ima naziv na engleskom za se gost |\n",
      "|  1 | classla/wav2vec2-xls-r-parlaspeech-hr-lm        | sample1.wav | a cili specijalitet zbog mjesta zove se dobro mislite ne vi pogače pa pripremaju se onoj velikoj peći žuseskajmakom sa ne znam kako se pravi što se tiče volim gledati okove taj tip odnosa s gostom dva domaće move najviše najdraži domaće ironično ima naszid na engleskom zove se ga est                                                                                                                                                    |\n",
      "|  2 | classla/wav2vec2-large-slavic-parlaspeech-hr-lm | sample2.wav | a sada ložite i prepričajte me priču što više možete možete koristiti sve pojedinosti koje znate u priči i slikalo koje ste upravo poklodali dakle postao jedan otok i postao je jedan svjetionik svjetionik je bio bijeli i na vrhu je postao taj dio pomoću kojeg se odražava i projicira svjetnost i pored svetionika je postala jedna kućica                                                                                                |\n",
      "|  3 | classla/wav2vec2-xls-r-parlaspeech-hr-lm        | sample2.wav | dakle postao je jedan otok i postao je jedan svjetionik setionik je bio bijeli i na vrhu je postao taj dio pomoć kojeg se država i projicira svjetlost i pored setljonika je postala jedna kućica a                                                                                                                                                                                                                                             |\n",
      "|  4 | classla/wav2vec2-large-slavic-parlaspeech-hr-lm | sample3.wav | dakle bio je vrući dan i postojala jedna žena ptica koja je bila žena tog grućeg dana međutim nije nigdje mogla pronaći nikakvu vodu i onda je oda u park gdje je ispunjene klupe i vidjela vrćsuvodu kad je došlo do tog vrćasjala je na njega i osjetila je da tu na puno bolje i svojim kljunom nije mogla dohvatiti jer je ta voda bila pred nju                                                                                            |\n",
      "|  5 | classla/wav2vec2-xls-r-parlaspeech-hr-lm        | sample3.wav | dakle bio je vrući dan i postojala je jedna jedna ptica koja bila jedna tog vrućih dana međutim nije nigdje mogla pronać nikakvu vodu i onda je odšla park gdje je istodjednem klupe vidjela vrćsvodum kad je došlo do tog vrćasjela je na njega i osjetila je da tu nema puno bode i svojim klunom nije mogla dohvatiti jer je ta voda bila pri nu                                                                                             |\n"
     ]
    }
   ],
   "source": [
    "import pandas as pd\n",
    "pd.set_option('display.max_colwidth', None)\n",
    "pd.set_option('display.max_columns', None)\n",
    "\n",
    "print(pd.read_json(\"001_results.jsonl\", lines=True).to_markdown())"
   ]
  },
  {
   "cell_type": "code",
   "execution_count": null,
   "metadata": {},
   "outputs": [],
   "source": []
  }
 ],
 "metadata": {
  "kernelspec": {
   "display_name": "base",
   "language": "python",
   "name": "python3"
  },
  "language_info": {
   "codemirror_mode": {
    "name": "ipython",
    "version": 3
   },
   "file_extension": ".py",
   "mimetype": "text/x-python",
   "name": "python",
   "nbconvert_exporter": "python",
   "pygments_lexer": "ipython3",
   "version": "3.8.3"
  },
  "orig_nbformat": 4,
  "vscode": {
   "interpreter": {
    "hash": "7f6f5766036ee03d059e365a942add07f79c17033585e9357ee8157d52fe6bb9"
   }
  }
 },
 "nbformat": 4,
 "nbformat_minor": 2
}
